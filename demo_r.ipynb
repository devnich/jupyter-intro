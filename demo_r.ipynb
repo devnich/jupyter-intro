{
 "cells": [
  {
   "cell_type": "code",
   "execution_count": null,
   "metadata": {},
   "outputs": [],
   "source": [
    "gapminder = read.csv(\"data/gapminder_data.csv\")"
   ]
  },
  {
   "cell_type": "code",
   "execution_count": null,
   "metadata": {},
   "outputs": [],
   "source": [
    "str(gapminder)"
   ]
  },
  {
   "cell_type": "code",
   "execution_count": null,
   "metadata": {},
   "outputs": [],
   "source": [
    "summary(gapminder)"
   ]
  },
  {
   "cell_type": "code",
   "execution_count": null,
   "metadata": {},
   "outputs": [],
   "source": [
    "library(\"ggplot2\")\n",
    "ggplot(data = gapminder, mapping = aes(x=gdpPercap, y=lifeExp)) + geom_point()"
   ]
  },
  {
   "cell_type": "code",
   "execution_count": null,
   "metadata": {},
   "outputs": [],
   "source": [
    "ggplot(data = gapminder, mapping = aes(x=year, y=lifeExp, by=country, color=continent)) + geom_line()"
   ]
  },
  {
   "cell_type": "code",
   "execution_count": null,
   "metadata": {},
   "outputs": [],
   "source": [
    "americas = gapminder[gapminder$continent == \"Americas\",]\n",
    "\n",
    "ggplot(data = americas, mapping = aes(x=year, y=lifeExp, color=continent)) +\n",
    "  geom_line() + facet_wrap(~ country) +\n",
    "  labs(x=\"Year\", y=\"Life Expectancy\", title=\"Figure 1\", color=\"Continent\") +\n",
    "  theme(axis.text.x = element_text(angle=90, hjust=1))"
   ]
  }
 ],
 "metadata": {
  "kernelspec": {
   "display_name": "R",
   "language": "R",
   "name": "ir"
  },
  "language_info": {
   "codemirror_mode": "r",
   "file_extension": ".r",
   "mimetype": "text/x-r-source",
   "name": "R",
   "pygments_lexer": "r",
   "version": "3.6.1"
  }
 },
 "nbformat": 4,
 "nbformat_minor": 4
}
